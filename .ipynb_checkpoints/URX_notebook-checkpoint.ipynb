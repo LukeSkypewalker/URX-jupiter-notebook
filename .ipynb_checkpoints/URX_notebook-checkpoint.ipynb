{
 "cells": [
  {
   "cell_type": "markdown",
   "metadata": {},
   "source": [
    "# Universal Robots - Remote Control (URX) Crash Course\n",
    "v0.3 (2018-03-13)"
   ]
  },
  {
   "cell_type": "markdown",
   "metadata": {},
   "source": [
    "Welcome to Jupyter Notebook's interactive computational environment.\n",
    "<ul>\n",
    "<li>Use ***Shift+Enter*** to **execute cell** *below*</li>\n",
    "</ul>\n"
   ]
  },
  {
   "cell_type": "code",
   "execution_count": null,
   "metadata": {
    "collapsed": true
   },
   "outputs": [],
   "source": [
    "%%capture \n",
    "import urx #The UR remote control library.\n",
    "import math3d as m3d #the library, used by urx to represent transformations\n",
    "\n",
    "robot = urx.Robot(\"10.0.0.2\", use_rt=True)"
   ]
  },
  {
   "cell_type": "code",
   "execution_count": null,
   "metadata": {
    "collapsed": true
   },
   "outputs": [],
   "source": [
    "robot"
   ]
  },
  {
   "cell_type": "markdown",
   "metadata": {},
   "source": [
    "## **Hello Robot!**\n",
    "<ul>\n",
    "<li>Insert **`New Cell`** (Press key **`B`** to create an empty cell **`B`**elow the selected one)</li>\n",
    "<li>Press **`Enter`** to switch into *Edit mode*</li>\n",
    "<li>Type ***`robot.`*** and press **`Tab`** (autocomplete) - you will see all available URX commands</li>\n",
    "<li>Choose *set_digital_out*</li>\n",
    "<li>Place *Mouse cursor* on *robot.set_digital_out* and press **`Shift+Tab`** to get *function description*.</li>\n",
    "<li>This function expects 2 parameters - *digital_output_port_number* and *value* (True/False).</li>\n",
    "<li>Let's call ***robot.set_digital_out(0,True)***.</li>\n",
    "<li>Press **`Shift+Enter`** to execute.</li>\n",
    "</ul>\n",
    "\n",
    "\n",
    "\n",
    "\n"
   ]
  },
  {
   "cell_type": "markdown",
   "metadata": {},
   "source": [
    "Take a URobot's teach pendant and open *PolyScope I/O tab* and Check for *digital_output_0* indicator."
   ]
  },
  {
   "cell_type": "code",
   "execution_count": null,
   "metadata": {
    "collapsed": true
   },
   "outputs": [],
   "source": [
    "robot.set_digital_out(0,True)"
   ]
  },
  {
   "cell_type": "code",
   "execution_count": null,
   "metadata": {
    "collapsed": true
   },
   "outputs": [],
   "source": [
    "robot.set_digital_out(0,False)"
   ]
  },
  {
   "cell_type": "code",
   "execution_count": null,
   "metadata": {
    "collapsed": true
   },
   "outputs": [],
   "source": [
    "# Let's get robot's tool tip position (x, y, z)\n",
    "robot.get_pos()"
   ]
  },
  {
   "cell_type": "code",
   "execution_count": null,
   "metadata": {
    "collapsed": true
   },
   "outputs": [],
   "source": [
    "# Let's move robot for 20mm along TOOL Z axis \n",
    "# (BE CAREFUL, This command will MOVE the Robot)\n",
    "robot.up(z=0.03, acc=0.1, vel=0.01)"
   ]
  },
  {
   "cell_type": "code",
   "execution_count": null,
   "metadata": {
    "collapsed": true
   },
   "outputs": [],
   "source": [
    "# Let's list all URX functions !\n",
    "help(robot)"
   ]
  },
  {
   "cell_type": "markdown",
   "metadata": {},
   "source": [
    "Most of the commands are self-descriptive,<br>\n",
    "But there are three command sub-sets, what will require a deep understanding - Coordinate system, Movement and Force<br><br>"
   ]
  },
  {
   "cell_type": "markdown",
   "metadata": {},
   "source": [
    "# Robot coordinate system introduction:"
   ]
  },
  {
   "cell_type": "markdown",
   "metadata": {},
   "source": [
    "<img src=\"images/coord_sys.png\">"
   ]
  },
  {
   "cell_type": "markdown",
   "metadata": {},
   "source": [
    "### 1. Joints angles \n",
    "( j0, j1, j2, j3, j4, j5 ) in Radians from Base_Joint(0) to Whirst3_Joint(5)"
   ]
  },
  {
   "cell_type": "code",
   "execution_count": null,
   "metadata": {
    "collapsed": true
   },
   "outputs": [],
   "source": [
    "robot.getj()                 # get joints angles in RADIANS"
   ]
  },
  {
   "cell_type": "markdown",
   "metadata": {},
   "source": [
    "### 2. Classic Transform\n",
    "which includes ***Position*** *Vector* from base coordinate sytem to TCP (blue arrow)<br>\n",
    "and ***Rotation*** *Matrix* https://en.wikipedia.org/wiki/Rotation_matrix"
   ]
  },
  {
   "cell_type": "code",
   "execution_count": null,
   "metadata": {
    "collapsed": true
   },
   "outputs": [],
   "source": [
    "robot.get_pose()             # get transform from current coord system to tcp  "
   ]
  },
  {
   "cell_type": "code",
   "execution_count": null,
   "metadata": {
    "collapsed": true
   },
   "outputs": [],
   "source": [
    "robot.get_pos()              # get tool position (x, y, z) in current coord system"
   ]
  },
  {
   "cell_type": "code",
   "execution_count": null,
   "metadata": {
    "collapsed": true,
    "scrolled": true
   },
   "outputs": [],
   "source": [
    "robot.get_orientation()      # get tool orientation (Rotation Matrix) in current coordinate system"
   ]
  },
  {
   "cell_type": "markdown",
   "metadata": {},
   "source": [
    "### 3. Axis–angle\n",
    "(x, y, z, Rx, Ry, Rz) from tcp to current coordinate system<br>\n",
    "x, y, z - stands for Position-Vector - same as get_pos,<br>\n",
    "Rx, Ry, Rz - is a rotation vector or an axis of rotation of original coord system to get a new one,<br> \n",
    "and the lenght of this vector - is an angle of rotation in Radians<br>\n",
    "https://en.wikipedia.org/wiki/Axis-angle_representation"
   ]
  },
  {
   "cell_type": "code",
   "execution_count": null,
   "metadata": {
    "collapsed": true
   },
   "outputs": [],
   "source": [
    "robot.getl()                 # return current pose (x, y, z, Rx, Ry, Rz) from tcp to current csys "
   ]
  },
  {
   "cell_type": "markdown",
   "metadata": {},
   "source": [
    "### 4. XYZ"
   ]
  },
  {
   "cell_type": "code",
   "execution_count": null,
   "metadata": {
    "collapsed": true
   },
   "outputs": [],
   "source": [
    "robot.x  # returns current x coordinate"
   ]
  },
  {
   "cell_type": "code",
   "execution_count": null,
   "metadata": {
    "collapsed": true
   },
   "outputs": [],
   "source": [
    "robot.y"
   ]
  },
  {
   "cell_type": "code",
   "execution_count": null,
   "metadata": {
    "collapsed": true
   },
   "outputs": [],
   "source": [
    "robot.z"
   ]
  },
  {
   "cell_type": "markdown",
   "metadata": {},
   "source": [
    "### 5. Coordinates Conversion\n",
    "Theory and math of relation between different types of coordinates:<br>\n",
    "Joints and Pose could be converted using forward and inverse kinematics - http://cdn.intechweb.org/pdfs/379.pdf<br>\n",
    "RotationMatrix and Axis-Angle - http://www.euclideanspace.com/maths/geometry/rotations/conversions/angleToMatrix/index.htm<br>"
   ]
  },
  {
   "cell_type": "code",
   "execution_count": null,
   "metadata": {
    "collapsed": true
   },
   "outputs": [],
   "source": [
    "# URX (math3d) library way from axis-angle to transform\n",
    "axis_angle = robot.getl()\n",
    "transform = m3d.Transform(axis_angle)\n",
    "transform"
   ]
  },
  {
   "cell_type": "code",
   "execution_count": null,
   "metadata": {
    "collapsed": true
   },
   "outputs": [],
   "source": [
    "# and vice-verse:\n",
    "transform.pose_vector"
   ]
  },
  {
   "cell_type": "markdown",
   "metadata": {},
   "source": [
    "### 6. Coordinates calculation\n",
    "Let's say you have a fixture and it is leaned by 30 degrees to horizont. furthermore, angle can be changed <br>\n",
    "You have a pose inside this fixture and you want to calculate approach pose. approach trajectory should folow pose vector<br> \n",
    "Since fixture is leaned you cannot just add a Z coord. You have to multiply matrices:"
   ]
  },
  {
   "cell_type": "code",
   "execution_count": null,
   "metadata": {
    "collapsed": true
   },
   "outputs": [],
   "source": [
    "def calc_tool_translate(pose, vect):\n",
    "    p = m3d.Transform(pose)\n",
    "    t = m3d.Transform()\n",
    "    t.pos += vect\n",
    "    new_transform = p * t\n",
    "    return new_transform.pose_vector\n",
    "\n",
    "calc_tool_translate(robot.getl(), [0,0,0.1])"
   ]
  },
  {
   "cell_type": "markdown",
   "metadata": {},
   "source": [
    "<br>"
   ]
  },
  {
   "cell_type": "markdown",
   "metadata": {},
   "source": [
    "# Movement "
   ]
  },
  {
   "cell_type": "markdown",
   "metadata": {},
   "source": [
    "### 1. Simple Move functions "
   ]
  },
  {
   "cell_type": "code",
   "execution_count": null,
   "metadata": {
    "collapsed": true
   },
   "outputs": [],
   "source": [
    "# Move up along csys z-axis\n",
    "robot.up(z=0.05, acc=0.01, vel=0.01)"
   ]
  },
  {
   "cell_type": "code",
   "execution_count": null,
   "metadata": {
    "collapsed": true
   },
   "outputs": [],
   "source": [
    "# Move down along csys z-axis\n",
    "robot.down(z=0.05, acc=0.01, vel=0.01)"
   ]
  },
  {
   "cell_type": "code",
   "execution_count": null,
   "metadata": {
    "collapsed": true
   },
   "outputs": [],
   "source": [
    "# move along tool z-axis\n",
    "robot.back(z=0.05, acc=0.01, vel=0.01)      "
   ]
  },
  {
   "cell_type": "markdown",
   "metadata": {},
   "source": [
    " "
   ]
  },
  {
   "cell_type": "code",
   "execution_count": null,
   "metadata": {
    "collapsed": true,
    "scrolled": true
   },
   "outputs": [],
   "source": [
    "# Move robot in current coord sys without changing orientation  \n",
    "robot.translate((0.05, 0, 0.03), acc=0.05, vel=0.05)"
   ]
  },
  {
   "cell_type": "code",
   "execution_count": null,
   "metadata": {
    "collapsed": true
   },
   "outputs": [],
   "source": [
    "# Move robot in TOOL coord sys without changing orientation\n",
    "robot.translate_tool((0, 0, 0.03), acc=0.05, vel=0.05)"
   ]
  },
  {
   "cell_type": "markdown",
   "metadata": {},
   "source": [
    "### 2. Joint space"
   ]
  },
  {
   "cell_type": "code",
   "execution_count": null,
   "metadata": {
    "collapsed": true
   },
   "outputs": [],
   "source": [
    "joints = robot.getj() # get current joints angles  \n",
    "joints[5] -= 0.5 # add 0.5 radian (30 degrees) to the last joint (wirst3)\n",
    "robot.movej(joints, acc=0.2, vel=0.2)"
   ]
  },
  {
   "cell_type": "markdown",
   "metadata": {},
   "source": [
    "### 3. Transformation"
   ]
  },
  {
   "cell_type": "code",
   "execution_count": null,
   "metadata": {
    "collapsed": true
   },
   "outputs": [],
   "source": [
    "# get current pose, transform it and move robot to new pose\n",
    "trans = robot.get_pose()  # get current transformation matrix (tool to base)\n",
    "trans.pos.z += 0.3\n",
    "trans.orient.rotate_yb(pi/2)\n",
    "robot.set_pose(trans, acc=0.5, vel=0.2)  # apply the new pose"
   ]
  },
  {
   "cell_type": "code",
   "execution_count": null,
   "metadata": {
    "collapsed": true
   },
   "outputs": [],
   "source": [
    "# or only work with orientation part\n",
    "o = robot.get_orientation()\n",
    "o.rotate_yb(np.pi)\n",
    "robot.set_orientation(o)"
   ]
  },
  {
   "cell_type": "code",
   "execution_count": null,
   "metadata": {
    "collapsed": true
   },
   "outputs": [],
   "source": [
    "# Add transform expressed in base coordinate or The same in tool coordinate sys - *add_pose_tool*\n",
    "# This function will move to new_pose = trans * get_pose()\n",
    "robot.add_pose_base(trans, acc=0.01, vel=0.01)"
   ]
  },
  {
   "cell_type": "markdown",
   "metadata": {},
   "source": [
    "### 4. Axis-Angle\n",
    "\n",
    "These functions are native UR-script commands\n",
    "###  - Linear Movement"
   ]
  },
  {
   "cell_type": "code",
   "execution_count": null,
   "metadata": {
    "collapsed": true
   },
   "outputs": [],
   "source": [
    "pose = robot.getl()\n",
    "pose[2] += 0.03\n",
    "robot.movel(pose, acc=0.01, vel=0.01, wait=True, relative=False, threshold=None)"
   ]
  },
  {
   "cell_type": "code",
   "execution_count": null,
   "metadata": {
    "collapsed": true
   },
   "outputs": [],
   "source": [
    "# Linear Movement in Relative to current pose coordinates\n",
    "robot.movel((0.1, 0, 0, 0, 0, 0), a, v, relative=true)"
   ]
  },
  {
   "cell_type": "code",
   "execution_count": null,
   "metadata": {
    "collapsed": true
   },
   "outputs": [],
   "source": [
    "# Linear Movement in TCP coordinates\n",
    "robot.movel_tool([0,0,-0.03,0,0,0.5], acc=0.1, vel=0.1)   "
   ]
  },
  {
   "cell_type": "markdown",
   "metadata": {},
   "source": [
    "### - Circular movement"
   ]
  },
  {
   "cell_type": "code",
   "execution_count": null,
   "metadata": {
    "collapsed": true
   },
   "outputs": [],
   "source": [
    "# pose_via = robot.getl()\n",
    "pose_via[0] += 0.05\n",
    "pose_via[1] += 0.05\n",
    "\n",
    "pose_to = robot.getl()\n",
    "pose_to[1] += 0.1\n",
    "\n",
    "robot.movec(pose_via, pose_to, acc=0.01, vel=0.01, wait=True, threshold=None)"
   ]
  },
  {
   "cell_type": "markdown",
   "metadata": {},
   "source": [
    "### 5. Continious Trajectory"
   ]
  },
  {
   "cell_type": "code",
   "execution_count": null,
   "metadata": {
    "collapsed": true
   },
   "outputs": [],
   "source": [
    "# Let's execute a series of movements (along Z axis in Base coord sys)  \n",
    "# URX will monitor whether the motion is completed before executing the next one. (URX move functions is blocking)\n",
    "# Every new command from URX to robot make the robot stop\n",
    "robot.up(z=0.01, acc=0.1, vel=0.01)\n",
    "robot.up(z=0.01, acc=0.1, vel=0.01)\n",
    "robot.up(z=0.01, acc=0.1, vel=0.01)"
   ]
  },
  {
   "cell_type": "code",
   "execution_count": null,
   "metadata": {
    "collapsed": true
   },
   "outputs": [],
   "source": [
    "# To execute smooth trajectory - all coordinates should be gathered in The List [] and passed via movels() \n",
    "p1 = robot.getl()\n",
    "p1[2] -= 0.01\n",
    "\n",
    "p2 = robot.getl()\n",
    "p2[2] -= 0.02\n",
    "\n",
    "p3 = robot.getl()\n",
    "p3[2] -= 0.03\n",
    "\n",
    "points = [p1,p2,p3]"
   ]
  },
  {
   "cell_type": "code",
   "execution_count": null,
   "metadata": {
    "collapsed": true,
    "scrolled": true
   },
   "outputs": [],
   "source": [
    "robot.movels(points, 0.1, 0.1, 0.05)"
   ]
  },
  {
   "cell_type": "markdown",
   "metadata": {},
   "source": [
    "If you need a constant velocity (moveP instead of moveL) - take a look at <br>\n",
    "movexs(command, pose_list, acc=0.01, vel=0.01, radius=0.01, wait=True, threshold=None)<br>\n",
    "where command could be 'movel'/'movep'/'movec'<br>\n",
    "<br>\n",
    "If you need to combine a couple types of movement in one smooth trajectory - define a function of those points and movements in UR script language and send it to socket as ASCII string, then execute that function:<br>\n",
    "s.send((\"def movex():\\n\" + \"movel(pose,acc,vel)\\n \" + \"movep(pose,acc,vel)\\n \" + \"movec(pose_via,pose_to,acc,vel)\\n \" + \"end\\n\").encode())<br>\n",
    "s.send((\"movex()\").encode())<br>\n",
    "\n",
    "or define your own function like movex, but with additional moveC/moveP support."
   ]
  },
  {
   "cell_type": "markdown",
   "metadata": {},
   "source": [
    "<br>"
   ]
  },
  {
   "cell_type": "markdown",
   "metadata": {},
   "source": [
    "## Features and coordinate systems"
   ]
  },
  {
   "cell_type": "markdown",
   "metadata": {},
   "source": [
    "<img src=\"images/frames.gif\">"
   ]
  },
  {
   "cell_type": "code",
   "execution_count": null,
   "metadata": {
    "collapsed": true,
    "scrolled": true
   },
   "outputs": [],
   "source": [
    "# let's take a look on our current coord-system and save it into back-up variable\n",
    "base_coord_sys = robot.csys\n",
    "base_coord_sys"
   ]
  },
  {
   "cell_type": "code",
   "execution_count": null,
   "metadata": {
    "collapsed": true
   },
   "outputs": [],
   "source": [
    "# Let's switch to the current TCP(Tool center point) coordinate system:\n",
    "robot.set_csys(robot.get_pose())\n",
    "robot.csys"
   ]
  },
  {
   "cell_type": "code",
   "execution_count": null,
   "metadata": {
    "collapsed": true
   },
   "outputs": [],
   "source": [
    "# Let's move the Robot for 20mm along Z axis in NEW COORDINATE SYSTEM:\n",
    "robot.translate((0, 0, 0.02), acc=0.05, vel=0.01)"
   ]
  },
  {
   "cell_type": "code",
   "execution_count": null,
   "metadata": {
    "collapsed": true
   },
   "outputs": [],
   "source": [
    "# Let's define a function to create a new coordinate system by three given points\n",
    "# This is a way how URX and Math3d doing it: \n",
    "def get_new_coord_sys(X,Y,Origin):\n",
    "    new_csys = m3d.Transform.new_from_xyp(X - Origin, Y - Origin, Origin)\n",
    "    return new_csys\n",
    "\n",
    "X = m3d.Vector(1,0,0)\n",
    "Y = m3d.Vector(0,1,0)\n",
    "Origin = m3d.Vector(0,0,0)\n",
    "new_coord_sys = get_new_coord_sys(X,Y,Origin)\n",
    "robot.set_csys(new_coord_sys)\n",
    "new_coord_sys"
   ]
  },
  {
   "cell_type": "code",
   "execution_count": null,
   "metadata": {
    "collapsed": true
   },
   "outputs": [],
   "source": [
    "# Let's rotate it to 45 degrees and translate 0.5m along Z axis\n",
    "X = m3d.Vector(1,1,0)\n",
    "Y = m3d.Vector(-1,1,0)\n",
    "Origin = m3d.Vector(0,0,0.5)\n",
    "new_coord_sys = get_new_coord_sys(X,Y,Origin)\n",
    "robot.set_csys(new_coord_sys)\n",
    "new_coord_sys"
   ]
  },
  {
   "cell_type": "code",
   "execution_count": null,
   "metadata": {
    "collapsed": true
   },
   "outputs": [],
   "source": [
    "# Finnaly, Let's Teach a new coordinate system\n",
    "# This function will guide you step-by-step through 3 points in teaching mode: X, origin, Y.\n",
    "# Just RUN it!\n",
    "new_coord_sys = robot.new_csys_from_xpy()"
   ]
  },
  {
   "cell_type": "code",
   "execution_count": null,
   "metadata": {
    "collapsed": true,
    "scrolled": true
   },
   "outputs": [],
   "source": [
    "# Apply new coordinate system:\n",
    "robot.set_csys(new_coord_sys)\n",
    "robot.csys"
   ]
  },
  {
   "cell_type": "code",
   "execution_count": null,
   "metadata": {
    "collapsed": true
   },
   "outputs": [],
   "source": [
    "# Let's move robot for 20mm along Z axis in NEW COORDINATE SYSTEM !\n",
    "robot.translate((0, 0, 0.02), acc=0.05, vel=0.01)"
   ]
  },
  {
   "cell_type": "code",
   "execution_count": null,
   "metadata": {
    "collapsed": true
   },
   "outputs": [],
   "source": [
    "# Return to base coordinate system:\n",
    "robot.set_csys(base_coord_sys)\n",
    "robot.csys"
   ]
  },
  {
   "cell_type": "markdown",
   "metadata": {},
   "source": [
    " "
   ]
  },
  {
   "cell_type": "markdown",
   "metadata": {},
   "source": [
    "## Reference:\n",
    "https://www.universal-robots.com/how-tos-and-faqs/how-to/ur-how-tos/overview-of-client-interfaces-21744/<br>\n",
    "https://www.universal-robots.com/how-tos-and-faqs/how-to/ur-how-tos/remote-control-via-tcpip-16496/ - RTDE protocol  discription with source code and examples<br>\n",
    "https://github.com/jkur/python-urx/tree/SW3.5/urx - in Code Veritas! <br>\n"
   ]
  },
  {
   "cell_type": "code",
   "execution_count": null,
   "metadata": {
    "collapsed": true
   },
   "outputs": [],
   "source": []
  }
 ],
 "metadata": {
  "kernelspec": {
   "display_name": "Python 3",
   "language": "python",
   "name": "python3"
  },
  "language_info": {
   "codemirror_mode": {
    "name": "ipython",
    "version": 3
   },
   "file_extension": ".py",
   "mimetype": "text/x-python",
   "name": "python",
   "nbconvert_exporter": "python",
   "pygments_lexer": "ipython3",
   "version": "3.6.3"
  }
 },
 "nbformat": 4,
 "nbformat_minor": 1
}
